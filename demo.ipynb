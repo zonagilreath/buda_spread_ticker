{
 "cells": [
  {
   "cell_type": "code",
   "execution_count": 3,
   "metadata": {},
   "outputs": [],
   "source": [
    "from spreadticker.spreadticker import SpreadTicker"
   ]
  },
  {
   "cell_type": "code",
   "execution_count": 4,
   "metadata": {},
   "outputs": [],
   "source": [
    "t = SpreadTicker()"
   ]
  },
  {
   "cell_type": "code",
   "execution_count": 50,
   "metadata": {},
   "outputs": [
    {
     "name": "stdout",
     "output_type": "stream",
     "text": [
      "Market: Spread\n",
      "\n",
      "BTC-CLP: 49080.0\n",
      "ETH-BTC: 0.013108949999999998\n",
      "BCH-CLP: 35722.0\n",
      "ETH-ARS: 2028.4799999999996\n",
      "LTC-BTC: 0.02318\n",
      "BCH-BTC: 0.0595\n",
      "ETH-COP: 0.0\n",
      "LTC-PEN: 25.320000000000007\n",
      "BCH-PEN: 257.53\n",
      "ETH-CLP: 2534.0\n",
      "LTC-COP: 0.0\n",
      "ETH-PEN: 27.0\n",
      "BCH-ARS: 4522.52\n",
      "LTC-ARS: 450.29999999999995\n",
      "BTC-PEN: 107.39999999999964\n",
      "BTC-COP: 0.0\n",
      "BTC-ARS: 12973.200000000012\n",
      "LTC-CLP: 3140.0\n",
      "BCH-COP: 0.0\n"
     ]
    }
   ],
   "source": [
    "#executing the cell repeatedly will print an updated list of market spreads\n",
    "t.spread_stream()\n",
    "print(\"MARKET : SPREAD\\n\")\n",
    "for spread in t.spreads.items():\n",
    "    print(\"{}: {}\".format(spread[0], spread[1]))"
   ]
  }
 ],
 "metadata": {
  "kernelspec": {
   "display_name": "Python 3",
   "language": "python",
   "name": "python3"
  },
  "language_info": {
   "codemirror_mode": {
    "name": "ipython",
    "version": 3
   },
   "file_extension": ".py",
   "mimetype": "text/x-python",
   "name": "python",
   "nbconvert_exporter": "python",
   "pygments_lexer": "ipython3",
   "version": "3.6.6"
  }
 },
 "nbformat": 4,
 "nbformat_minor": 2
}
